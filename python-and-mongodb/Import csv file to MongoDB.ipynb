{
 "metadata": {
  "name": "",
  "signature": "sha256:a34293d054eaf0f1f420ca3f225a03057da44cdaa7e5ad993c1756d651d47e78"
 },
 "nbformat": 3,
 "nbformat_minor": 0,
 "worksheets": [
  {
   "cells": [
    {
     "cell_type": "heading",
     "level": 4,
     "metadata": {},
     "source": [
      "Importing a csv file to MongoDB"
     ]
    },
    {
     "cell_type": "heading",
     "level": 1,
     "metadata": {},
     "source": [
      "Import a csv file to MongoDB"
     ]
    },
    {
     "cell_type": "markdown",
     "metadata": {},
     "source": [
      "This tutorial is intended as an introduction to working with MongoDB and PyMongo."
     ]
    },
    {
     "cell_type": "heading",
     "level": 2,
     "metadata": {},
     "source": [
      "Prerequisites"
     ]
    },
    {
     "cell_type": "markdown",
     "metadata": {},
     "source": [
      "Before we start, make sure that you have the PyMongo distribution installed. In the Python shell, the following should run without raising an exception:\n",
      "\n",
      "$ mongod"
     ]
    },
    {
     "cell_type": "heading",
     "level": 2,
     "metadata": {},
     "source": [
      "Making a Connection with MongoClient"
     ]
    },
    {
     "cell_type": "markdown",
     "metadata": {},
     "source": [
      "The first step when working with PyMongo is to create a MongoClient to the running mongod instance."
     ]
    },
    {
     "cell_type": "code",
     "collapsed": false,
     "input": [
      "import pymongo"
     ],
     "language": "python",
     "metadata": {},
     "outputs": [],
     "prompt_number": 1
    },
    {
     "cell_type": "heading",
     "level": 2,
     "metadata": {},
     "source": [
      "Getting a Database"
     ]
    },
    {
     "cell_type": "code",
     "collapsed": false,
     "input": [
      "from pymongo import MongoClient\n",
      "client = MongoClient()"
     ],
     "language": "python",
     "metadata": {},
     "outputs": [],
     "prompt_number": 2
    },
    {
     "cell_type": "markdown",
     "metadata": {},
     "source": [
      "A single instance of MongoDB can support multiple independent databases. When working with PyMongo you access databases using attribute style access on MongoClient instances:"
     ]
    },
    {
     "cell_type": "code",
     "collapsed": false,
     "input": [
      "db = client.test_database"
     ],
     "language": "python",
     "metadata": {},
     "outputs": [],
     "prompt_number": 3
    },
    {
     "cell_type": "heading",
     "level": 2,
     "metadata": {},
     "source": [
      "Getting a Collection"
     ]
    },
    {
     "cell_type": "markdown",
     "metadata": {},
     "source": [
      "A collection is a group of documents stored in MongoDB, and can be thought of as roughly the equivalent of a table in a relational database. Getting a collection in PyMongo works the same as getting a database:"
     ]
    },
    {
     "cell_type": "code",
     "collapsed": false,
     "input": [
      "collection = db.test_collection"
     ],
     "language": "python",
     "metadata": {},
     "outputs": [],
     "prompt_number": 4
    },
    {
     "cell_type": "heading",
     "level": 2,
     "metadata": {},
     "source": [
      "Import a csv file into a table in Mongodb"
     ]
    },
    {
     "cell_type": "code",
     "collapsed": false,
     "input": [
      "import csv\n",
      "with open('table.csv') as f:\n",
      "    records = csv.DictReader(f)\n",
      "    db.table.insert(records)"
     ],
     "language": "python",
     "metadata": {},
     "outputs": [],
     "prompt_number": 5
    },
    {
     "cell_type": "code",
     "collapsed": false,
     "input": [
      "db.collection_names()"
     ],
     "language": "python",
     "metadata": {},
     "outputs": [
      {
       "metadata": {},
       "output_type": "pyout",
       "prompt_number": 6,
       "text": [
        "[u'posts', u'system.indexes', u'table']"
       ]
      }
     ],
     "prompt_number": 6
    },
    {
     "cell_type": "code",
     "collapsed": false,
     "input": [
      "table=db.table"
     ],
     "language": "python",
     "metadata": {},
     "outputs": [],
     "prompt_number": 7
    },
    {
     "cell_type": "code",
     "collapsed": false,
     "input": [
      "table.find_one()"
     ],
     "language": "python",
     "metadata": {},
     "outputs": [
      {
       "metadata": {},
       "output_type": "pyout",
       "prompt_number": 8,
       "text": [
        "{u'Adj Close': u'159.11',\n",
        " u'Close': u'159.11',\n",
        " u'Date': u'2015-01-09',\n",
        " u'High': u'160.34',\n",
        " u'Low': u'157.25',\n",
        " u'Open': u'158.42',\n",
        " u'Volume': u'4484800',\n",
        " u'_id': ObjectId('54c7214ee510af2de80f51e5')}"
       ]
      }
     ],
     "prompt_number": 8
    },
    {
     "cell_type": "code",
     "collapsed": false,
     "input": [
      "for tabledata in table.find().limit(5):\n",
      "    print tabledata"
     ],
     "language": "python",
     "metadata": {},
     "outputs": [
      {
       "output_type": "stream",
       "stream": "stdout",
       "text": [
        "{u'High': u'160.34', u'Adj Close': u'159.11', u'Volume': u'4484800', u'Low': u'157.25', u'Date': u'2015-01-09', u'Close': u'159.11', u'_id': ObjectId('54c7214ee510af2de80f51e5'), u'Open': u'158.42'}\n",
        "{u'High': u'159.04', u'Adj Close': u'158.42', u'Volume': u'4236800', u'Low': u'155.55', u'Date': u'2015-01-08', u'Close': u'158.42', u'_id': ObjectId('54c7214ee510af2de80f51e6'), u'Open': u'156.24'}\n",
        "{u'High': u'157.20', u'Adj Close': u'155.05', u'Volume': u'4701800', u'Low': u'154.03', u'Date': u'2015-01-07', u'Close': u'155.05', u'_id': ObjectId('54c7214ee510af2de80f51e7'), u'Open': u'157.20'}\n",
        "{u'High': u'159.96', u'Adj Close': u'156.07', u'Volume': u'6146700', u'Low': u'155.17', u'Date': u'2015-01-06', u'Close': u'156.07', u'_id': ObjectId('54c7214ee510af2de80f51e8'), u'Open': u'159.67'}\n",
        "{u'High': u'161.27', u'Adj Close': u'159.51', u'Volume': u'4880400', u'Low': u'159.19', u'Date': u'2015-01-05', u'Close': u'159.51', u'_id': ObjectId('54c7214ee510af2de80f51e9'), u'Open': u'161.27'}\n"
       ]
      }
     ],
     "prompt_number": 9
    }
   ],
   "metadata": {}
  }
 ]
}